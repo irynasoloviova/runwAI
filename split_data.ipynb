{
 "cells": [
  {
   "cell_type": "code",
   "execution_count": 1,
   "id": "e3940ae2-2ece-4b28-bd74-a7838e16d90c",
   "metadata": {},
   "outputs": [],
   "source": [
    "# imports\n",
    "import argparse\n",
    "import csv\n",
    "import os\n",
    "\n",
    "import numpy as np\n",
    "from PIL import Image\n",
    "from tqdm import tqdm"
   ]
  },
  {
   "cell_type": "code",
   "execution_count": 2,
   "id": "b7d04809-c6d9-493f-856a-c514e3d66d4a",
   "metadata": {},
   "outputs": [],
   "source": [
    "# File Paths\n",
    "DATA_DIR = \"/home/jupyter/runwai/data\"\n",
    "IMAGES_DIR = f\"{DATA_DIR}/images\"\n",
    "LABELS_DIR = f\"{DATA_DIR}/labels\"\n",
    "SPLIT_DIR = f\"{DATA_DIR}/split\""
   ]
  },
  {
   "cell_type": "code",
   "execution_count": 3,
   "id": "88dd7652-a7d6-4d19-8b35-e54075212039",
   "metadata": {},
   "outputs": [
    {
     "name": "stdout",
     "output_type": "stream",
     "text": [
      "The train.csv file does not exist\n",
      "The val.csv file does not exist\n"
     ]
    }
   ],
   "source": [
    "# delete output files to avoid duplicates and overriding\n",
    "#train.csv\n",
    "\n",
    "if os.path.exists(f\"{SPLIT_DIR}/train.csv\"):\n",
    "  os.remove(f\"{SPLIT_DIR}/train.csv\")\n",
    "  print(\"Train CSV is deleted\")\n",
    "else:\n",
    "  print(\"The train.csv file does not exist\")\n",
    "\n",
    "#val.csv\n",
    "\n",
    "if os.path.exists(f\"{SPLIT_DIR}/val.csv\"):\n",
    "  os.remove(f\"{SPLIT_DIR}/val.csv\")\n",
    "  print(\"Val CSV is deleted\")\n",
    "else:\n",
    "  print(\"The val.csv file does not exist\")"
   ]
  },
  {
   "cell_type": "code",
   "execution_count": 4,
   "id": "a40427f1-2b4f-4922-a84d-1d1004c2e210",
   "metadata": {},
   "outputs": [],
   "source": [
    "def save_csv(data, path, fieldnames=['image_path', \"upper_fabric\", \"lower_fabric\", \"outer_fabric\", \n",
    "                                              \"upper_color\", \"lower_color\" , \"outer_color\", \n",
    "                                             \"sleeve_len\", \"lower_clothing_len\", \"neckline\"]):\n",
    "    with open(path, 'w', newline='') as csv_file:\n",
    "        writer = csv.DictWriter(csv_file, fieldnames=fieldnames)\n",
    "        writer.writeheader()\n",
    "        for row in data:\n",
    "            writer.writerow(dict(zip(fieldnames, row)))"
   ]
  },
  {
   "cell_type": "code",
   "execution_count": 5,
   "id": "3c348978-b677-4635-b475-3592d935e4e4",
   "metadata": {},
   "outputs": [],
   "source": [
    "def split_data():\n",
    "    input_folder = IMAGES_DIR\n",
    "    output_folder = SPLIT_DIR\n",
    "    annotation = f\"{LABELS_DIR}/small_labels.csv\"\n",
    "\n",
    "    # open annotation file\n",
    "    all_data = []\n",
    "    with open(annotation) as csv_file:\n",
    "        # parse it as CSV\n",
    "        reader = csv.DictReader(csv_file)\n",
    "        # tqdm shows pretty progress bar\n",
    "        # each row in the CSV file corresponds to the image\n",
    "        for row in tqdm(reader, total=reader.line_num):\n",
    "            # we need image ID to build the path to the image file\n",
    "            img_name = row['image']\n",
    "            # we're going to use only 9 attributes\n",
    "            u_fabric = row['upper_fabric']\n",
    "            l_fabric = row['lower_fabric']\n",
    "            o_fabric = row['outer_fabric']\n",
    "            \n",
    "            u_color = row['upper_color']\n",
    "            l_color = row['lower_color']\n",
    "            o_color = row['outer_color']\n",
    "            \n",
    "            sleeve_len = row['sleeve_len']\n",
    "            pants_len = row['lower_clothing_len']\n",
    "            neckline = row['neckline']\n",
    "            \n",
    "            img_path = os.path.join(input_folder, img_name)\n",
    "            # check if file is in place\n",
    "            if os.path.exists(img_path):\n",
    "                # check if the image has 80*60 pixels with 3 channels\n",
    "                img = Image.open(img_path)\n",
    "                if img.mode == \"RGB\":\n",
    "                    all_data.append([img_path, u_fabric, l_fabric, o_fabric, \n",
    "                                    u_color, l_color, o_color, sleeve_len, \n",
    "                                    pants_len, neckline])\n",
    "\n",
    "    # set the seed of the random numbers generator, so we can reproduce the results later\n",
    "    np.random.seed(42)\n",
    "    # construct a Numpy array from the list\n",
    "    all_data = np.asarray(all_data)\n",
    "    # Take 42544 samples in random order\n",
    "    inds = np.random.choice(42544, 42544, replace=False)\n",
    "    # split the data into train/val and save them as csv files\n",
    "    save_csv(all_data[inds][:34035], os.path.join(output_folder, 'train.csv'))\n",
    "    save_csv(all_data[inds][34035:42544], os.path.join(output_folder, 'val.csv'))"
   ]
  },
  {
   "cell_type": "code",
   "execution_count": 6,
   "id": "c060c3f6-08ea-4474-afed-9543289bb1e8",
   "metadata": {},
   "outputs": [
    {
     "name": "stderr",
     "output_type": "stream",
     "text": [
      "42544it [00:10, 4129.50it/s]\n"
     ]
    }
   ],
   "source": [
    "split_data()"
   ]
  }
 ],
 "metadata": {
  "environment": {
   "kernel": "python3",
   "name": "pytorch-gpu.1-13.m107",
   "type": "gcloud",
   "uri": "gcr.io/deeplearning-platform-release/pytorch-gpu.1-13:m107"
  },
  "kernelspec": {
   "display_name": "Python 3",
   "language": "python",
   "name": "python3"
  },
  "language_info": {
   "codemirror_mode": {
    "name": "ipython",
    "version": 3
   },
   "file_extension": ".py",
   "mimetype": "text/x-python",
   "name": "python",
   "nbconvert_exporter": "python",
   "pygments_lexer": "ipython3",
   "version": "3.7.12"
  }
 },
 "nbformat": 4,
 "nbformat_minor": 5
}
